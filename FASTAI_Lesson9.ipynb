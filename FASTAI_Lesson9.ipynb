{
  "nbformat": 4,
  "nbformat_minor": 0,
  "metadata": {
    "colab": {
      "name": "FASTAI_Lesson9.ipynb",
      "version": "0.3.2",
      "provenance": [],
      "include_colab_link": true
    },
    "kernelspec": {
      "name": "python3",
      "display_name": "Python 3"
    }
  },
  "cells": [
    {
      "cell_type": "markdown",
      "metadata": {
        "id": "view-in-github",
        "colab_type": "text"
      },
      "source": [
        "<a href=\"https://colab.research.google.com/github/jimmymanianchira/FastAi_2019_part2/blob/master/FASTAI_Lesson9.ipynb\" target=\"_parent\"><img src=\"https://colab.research.google.com/assets/colab-badge.svg\" alt=\"Open In Colab\"/></a>"
      ]
    },
    {
      "cell_type": "code",
      "metadata": {
        "id": "HFrIws98p-zi",
        "colab_type": "code",
        "colab": {}
      },
      "source": [
        ""
      ],
      "execution_count": 0,
      "outputs": []
    },
    {
      "cell_type": "markdown",
      "metadata": {
        "id": "MbwuVbnQqKT1",
        "colab_type": "text"
      },
      "source": [
        "##  This is based on Initializing Notebook which covers on importance of activation"
      ]
    },
    {
      "cell_type": "code",
      "metadata": {
        "id": "G9_BR9-hqQ7j",
        "colab_type": "code",
        "colab": {}
      },
      "source": [
        "import torch\n",
        "import math"
      ],
      "execution_count": 0,
      "outputs": []
    },
    {
      "cell_type": "code",
      "metadata": {
        "id": "P37AikQtqTU4",
        "colab_type": "code",
        "colab": {}
      },
      "source": [
        "\n",
        "x = torch.randn(512)\n",
        "a = torch.randn(512,512)"
      ],
      "execution_count": 0,
      "outputs": []
    },
    {
      "cell_type": "code",
      "metadata": {
        "id": "KaKuB93QqXFp",
        "colab_type": "code",
        "colab": {
          "base_uri": "https://localhost:8080/",
          "height": 35
        },
        "outputId": "21815e1b-fdbb-4b34-c949-c42583f3e4eb"
      },
      "source": [
        "\n",
        "for i in range(100): x = a @ x\n",
        "x.mean(),x.std()"
      ],
      "execution_count": 5,
      "outputs": [
        {
          "output_type": "execute_result",
          "data": {
            "text/plain": [
              "(tensor(nan), tensor(nan))"
            ]
          },
          "metadata": {
            "tags": []
          },
          "execution_count": 5
        }
      ]
    },
    {
      "cell_type": "code",
      "metadata": {
        "id": "wIGjCnlhqXpY",
        "colab_type": "code",
        "colab": {
          "base_uri": "https://localhost:8080/",
          "height": 35
        },
        "outputId": "8d65186c-3246-4f0d-8bef-b894658d5621"
      },
      "source": [
        "# Trying with initalization of 0.01\n",
        "x = torch.randn(512)\n",
        "a = torch.randn(512,512) * 0.01\n",
        "for i in range(100): x=a@x\n",
        "x.mean(),x.std()"
      ],
      "execution_count": 8,
      "outputs": [
        {
          "output_type": "execute_result",
          "data": {
            "text/plain": [
              "(tensor(0.), tensor(0.))"
            ]
          },
          "metadata": {
            "tags": []
          },
          "execution_count": 8
        }
      ]
    },
    {
      "cell_type": "code",
      "metadata": {
        "id": "VD7CKvZIqiYc",
        "colab_type": "code",
        "colab": {
          "base_uri": "https://localhost:8080/",
          "height": 35
        },
        "outputId": "0449a370-6de1-4f49-e8f0-9503c8de9b70"
      },
      "source": [
        "x = torch.randn(512)\n",
        "a = torch.randn(512,512) /(math.sqrt(512))\n",
        "for i in range(100): x=a@x\n",
        "x.mean(),x.std()"
      ],
      "execution_count": 15,
      "outputs": [
        {
          "output_type": "execute_result",
          "data": {
            "text/plain": [
              "(tensor(0.2835), tensor(11.2081))"
            ]
          },
          "metadata": {
            "tags": []
          },
          "execution_count": 15
        }
      ]
    },
    {
      "cell_type": "code",
      "metadata": {
        "id": "RI6_Qbi9rBsl",
        "colab_type": "code",
        "colab": {
          "base_uri": "https://localhost:8080/",
          "height": 35
        },
        "outputId": "49052584-f197-4a7b-e785-72044b70a5b3"
      },
      "source": [
        "x = torch.randn(512)\n",
        "a = torch.randn(512,512) /(math.sqrt(512))\n",
        "for i in range(100): x=a@x\n",
        "x.mean(),x.std()"
      ],
      "execution_count": 16,
      "outputs": [
        {
          "output_type": "execute_result",
          "data": {
            "text/plain": [
              "(tensor(-0.0864), tensor(2.0447))"
            ]
          },
          "metadata": {
            "tags": []
          },
          "execution_count": 16
        }
      ]
    },
    {
      "cell_type": "code",
      "metadata": {
        "id": "4s-gtkDdrUER",
        "colab_type": "code",
        "colab": {
          "base_uri": "https://localhost:8080/",
          "height": 35
        },
        "outputId": "62e947c6-f2f6-4087-f1e7-f63e1bcd9fd9"
      },
      "source": [
        "\n",
        "mean,sqr = 0.,0.\n",
        "for i in range(100):\n",
        "    x = torch.randn(512)\n",
        "    a = torch.randn(512, 512) * math.sqrt(2/512)\n",
        "    y = a @ x\n",
        "    y = y.clamp(min=0)\n",
        "    mean += y.mean().item()\n",
        "    sqr  += y.pow(2).mean().item()\n",
        "mean/100,sqr/100"
      ],
      "execution_count": 17,
      "outputs": [
        {
          "output_type": "execute_result",
          "data": {
            "text/plain": [
              "(0.5626889711618424, 0.9960777461528778)"
            ]
          },
          "metadata": {
            "tags": []
          },
          "execution_count": 17
        }
      ]
    },
    {
      "cell_type": "markdown",
      "metadata": {
        "id": "vGVehmacsGQC",
        "colab_type": "text"
      },
      "source": [
        "## Now going to"
      ]
    },
    {
      "cell_type": "code",
      "metadata": {
        "id": "VJJUFWIZr4pt",
        "colab_type": "code",
        "colab": {}
      },
      "source": [
        ""
      ],
      "execution_count": 0,
      "outputs": []
    }
  ]
}